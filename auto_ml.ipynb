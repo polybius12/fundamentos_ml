{
 "cells": [
  {
   "cell_type": "code",
   "execution_count": null,
   "id": "b63c0582-f979-4929-ac71-3040896c334e",
   "metadata": {},
   "outputs": [],
   "source": []
  },
  {
   "cell_type": "code",
   "execution_count": 1,
   "id": "586aa40b-b383-4415-8f10-a80794d66c41",
   "metadata": {
    "tags": []
   },
   "outputs": [],
   "source": [
    "import pandas as pd"
   ]
  },
  {
   "cell_type": "code",
   "execution_count": 5,
   "id": "37fba610-f291-4d9a-be37-739a7c79336f",
   "metadata": {
    "tags": []
   },
   "outputs": [
    {
     "data": {
      "text/plain": [
       "'C:\\\\Users\\\\esteban\\\\Downloads'"
      ]
     },
     "execution_count": 5,
     "metadata": {},
     "output_type": "execute_result"
    }
   ],
   "source": [
    "pwd"
   ]
  },
  {
   "cell_type": "code",
   "execution_count": 10,
   "id": "8559761e-df07-4eff-aa54-7f7b05b6d33e",
   "metadata": {
    "tags": []
   },
   "outputs": [],
   "source": [
    "import json"
   ]
  },
  {
   "cell_type": "code",
   "execution_count": 11,
   "id": "6f889303-6add-42a2-9735-a2d8a71604f5",
   "metadata": {
    "tags": []
   },
   "outputs": [
    {
     "name": "stdout",
     "output_type": "stream",
     "text": [
      "Loading dataset...\n"
     ]
    }
   ],
   "source": [
    "def build_dataset():\n",
    "    data = [json.loads(x) for x in open(\"./MLA_100k.jsonlines/MLA_100k.jsonlines\")]\n",
    "    target = lambda x: x.get(\"condition\")\n",
    "    N = -10000\n",
    "    X_train = data[:N]\n",
    "    X_test = data[N:]\n",
    "    y_train = [target(x) for x in X_train]\n",
    "    y_test = [target(x) for x in X_test]\n",
    "    for x in X_test:\n",
    "        del x[\"condition\"]\n",
    "    return X_train, y_train, X_test, y_test\n",
    "\n",
    "if __name__ == \"__main__\":\n",
    "    print(\"Loading dataset...\")\n",
    "    # Train and test data following sklearn naming conventions\n",
    "    # X_train (X_test too) is a list of dicts with information about each item.\n",
    "    # y_train (y_test too) contains the labels to be predicted (new or used).\n",
    "    # The label of X_train[i] is y_train[i].\n",
    "    # The label of X_test[i] is y_test[i].\n",
    "    X_train, y_train, X_test, y_test = build_dataset()"
   ]
  },
  {
   "cell_type": "code",
   "execution_count": 13,
   "id": "c8dbc34f-b5f1-48c3-8f93-f4e7b4ca5b01",
   "metadata": {
    "tags": []
   },
   "outputs": [],
   "source": [
    "df = pd.json_normalize(X_train)"
   ]
  },
  {
   "cell_type": "code",
   "execution_count": 18,
   "id": "3a06ef82-f9c1-42e0-9ad0-721e17f59098",
   "metadata": {
    "tags": []
   },
   "outputs": [
    {
     "data": {
      "text/plain": [
       "condition\n",
       "new     48352\n",
       "used    41648\n",
       "Name: count, dtype: int64"
      ]
     },
     "execution_count": 18,
     "metadata": {},
     "output_type": "execute_result"
    }
   ],
   "source": [
    "df['condition'].value_counts()"
   ]
  },
  {
   "cell_type": "code",
   "execution_count": 22,
   "id": "5b8c49eb-0be1-4687-a3fc-a0b3aa5e7ee3",
   "metadata": {
    "tags": []
   },
   "outputs": [
    {
     "data": {
      "text/plain": [
       "0        MLA126406\n",
       "1         MLA10267\n",
       "2          MLA1227\n",
       "3         MLA86345\n",
       "4         MLA41287\n",
       "           ...    \n",
       "89995      MLA1227\n",
       "89996     MLA45559\n",
       "89997     MLA81061\n",
       "89998     MLA48851\n",
       "89999    MLA109390\n",
       "Name: category_id, Length: 90000, dtype: object"
      ]
     },
     "execution_count": 22,
     "metadata": {},
     "output_type": "execute_result"
    }
   ],
   "source": [
    "df['category_id']"
   ]
  },
  {
   "cell_type": "code",
   "execution_count": 15,
   "id": "e0c87ddd-a0fd-4d35-90e1-35402ce40062",
   "metadata": {
    "tags": []
   },
   "outputs": [
    {
     "data": {
      "text/plain": [
       "0        Auriculares Samsung Originales Manos Libres Ca...\n",
       "1        Cuchillo Daga Acero Carbón Casco Yelmo Solinge...\n",
       "2              Antigua Revista Billiken, N° 1826, Año 1954\n",
       "3        Alarma Guardtex Gx412 Seguridad Para El Automo...\n",
       "4                                Serenata - Jennifer Blake\n",
       "                               ...                        \n",
       "89995    El Fin De Las Libertades - Benegas Lynch (h) -...\n",
       "89996              Honda Wave Guardabarro Interior Trasero\n",
       "89997          My Little Pony Completa Latino 4 Temporadas\n",
       "89998    Accidente Cerebrovascular En La Infancia Y Ado...\n",
       "89999                    Campera De Mujer Tucci Reversible\n",
       "Name: title, Length: 90000, dtype: object"
      ]
     },
     "execution_count": 15,
     "metadata": {},
     "output_type": "execute_result"
    }
   ],
   "source": [
    "df['title']"
   ]
  },
  {
   "cell_type": "code",
   "execution_count": null,
   "id": "0d9163f8-2c07-4963-818d-0bc8bd023caf",
   "metadata": {},
   "outputs": [],
   "source": []
  },
  {
   "cell_type": "code",
   "execution_count": null,
   "id": "d634fd4e-1709-4384-9c9a-c6f0581b7a24",
   "metadata": {},
   "outputs": [],
   "source": []
  }
 ],
 "metadata": {
  "kernelspec": {
   "display_name": "Python 3 (ipykernel)",
   "language": "python",
   "name": "python3"
  },
  "language_info": {
   "codemirror_mode": {
    "name": "ipython",
    "version": 3
   },
   "file_extension": ".py",
   "mimetype": "text/x-python",
   "name": "python",
   "nbconvert_exporter": "python",
   "pygments_lexer": "ipython3",
   "version": "3.10.14"
  }
 },
 "nbformat": 4,
 "nbformat_minor": 5
}

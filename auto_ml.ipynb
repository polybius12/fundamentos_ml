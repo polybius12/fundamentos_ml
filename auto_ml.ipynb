{
 "cells": [
  {
   "cell_type": "code",
   "execution_count": null,
   "id": "fca683a7-8884-4341-81c9-b8dcc07218f1",
   "metadata": {
    "tags": []
   },
   "outputs": [],
   "source": [
    "#!pip install torch"
   ]
  },
  {
   "cell_type": "code",
   "execution_count": 1,
   "id": "72bb3a34-f3f1-43c8-9d5f-22bf4dc6a908",
   "metadata": {
    "tags": []
   },
   "outputs": [],
   "source": [
    "import json\n",
    "import pandas as pd\n",
    "import numpy as np\n",
    "import joblib \n",
    "import re\n",
    "import xgboost as xgb\n",
    "import matplotlib.pyplot as plt\n",
    "import io, os\n",
    "from os import path\n",
    "import datetime as dt\n",
    "import pickle as pkl\n",
    "import random\n",
    "from tqdm import tqdm\n",
    "from sklearn.model_selection import cross_validate\n",
    "from sklearn.model_selection import train_test_split\n",
    "from sklearn.preprocessing import MultiLabelBinarizer\n",
    "from datetime import datetime\n",
    "from sklearn import metrics\n",
    "from sklearn.metrics import precision_score, recall_score, f1_score, accuracy_score, roc_auc_score, confusion_matrix, precision_recall_curve, matthews_corrcoef\n",
    "from sklearn.utils import resample\n",
    "from sklearn.model_selection import cross_val_score\n",
    "from sklearn.cluster import KMeans\n",
    "from sklearn.decomposition import PCA\n",
    "from sklearn.pipeline import make_pipeline\n",
    "from sklearn.preprocessing import MinMaxScaler\n",
    "\n",
    "from transformers import AutoTokenizer, AutoModel\n",
    "import torch\n",
    "\n",
    "pd.set_option('display.max_columns', 100)\n",
    "pd.set_option('display.max_rows',200)"
   ]
  },
  {
   "cell_type": "code",
   "execution_count": 2,
   "id": "97d046db-1475-497a-a2e2-2ce90fcb612d",
   "metadata": {
    "tags": []
   },
   "outputs": [],
   "source": [
    "def build_dataset():\n",
    "    data = [json.loads(x) for x in open(\"MLA_100k.jsonlines\")]\n",
    "    target = lambda x: x.get(\"condition\")\n",
    "    N = -10000\n",
    "    X_train = data[:N]\n",
    "    X_test = data[N:]\n",
    "    y_train = [target(x) for x in X_train]\n",
    "    y_test = [target(x) for x in X_test]\n",
    "    for x in X_test:\n",
    "        del x[\"condition\"]\n",
    "    return X_train, y_train, X_test, y_test\n",
    "\n",
    "def normalize_data(X, y):    \n",
    "    y = pd.Series(y).replace({'new':1, 'used':0}).astype(int).copy()\n",
    "    print('Normalizando json...')\n",
    "    X = pd.json_normalize(X)\n",
    "    return X, y\n",
    "\n",
    "def formatear_utf_8(s):    \n",
    "    '''Remueve caracteres y encodea a utf-8'''    \n",
    "    import unicodedata\n",
    "    try:\n",
    "        text = unicode(text, 'utf-8')\n",
    "    except NameError: \n",
    "        pass    \n",
    "    \n",
    "    s = s.lower()\n",
    "    # Replace ips\n",
    "    s = re.sub(r'\\d{1,3}\\.\\d{1,3}\\.\\d{1,3}\\.\\d{1,3}', ' _ip_ ', s)\n",
    "    # Isolate punctuation\n",
    "    s = re.sub(r'([\\'\\\"\\.\\(\\)\\!\\?\\-\\\\\\/\\,])', r' \\1 ', s)\n",
    "    # Remove some special characters\n",
    "    s = re.sub(r'([\\;\\:\\|•«\\n])', ' ', s)\n",
    "    # Replace numbers and symbols with language\n",
    "    s = s.replace('&', ' y ')\n",
    "    s = s.replace('@', ' arroba ')\n",
    "    s = s.replace('0', ' cero ')\n",
    "    s = s.replace('1', ' uno')\n",
    "    s = s.replace('2', ' dos ')\n",
    "    s = s.replace('3', ' tres ')\n",
    "    s = s.replace('4', ' cuatro ')\n",
    "    s = s.replace('5', ' cinco ')\n",
    "    s = s.replace('6', ' seis ')\n",
    "    s = s.replace('7', ' siete ')\n",
    "    s = s.replace('8', ' ocho ')\n",
    "    s = s.replace('9', ' nueve ')\n",
    "    s = re.sub('[^A-Za-z0-9]+', ' ', unicodedata.normalize('NFD', s).encode('ascii', 'ignore').decode(\"utf-8\"))    \n",
    "    return str( s)\n",
    "\n",
    "\n",
    "def warranty(df_flatted):\n",
    "    '''\n",
    "    Quick feature processing for warranty.\n",
    "    - Fills missing values with 'sin_datos'\n",
    "    - Standardizes values and categorizes them\n",
    "    \n",
    "    Parameters:\n",
    "    df_flatted (DataFrame): The flattened DataFrame with a 'warranty' column.\n",
    "    \n",
    "    Returns:\n",
    "    DataFrame: The DataFrame with the processed 'warranty' column.\n",
    "    '''\n",
    "    print('Procesando warranty...')\n",
    "    \n",
    "    # List of known warranty categories\n",
    "    lista_warranty = ['sin_datos', 'si', 'sin garantia']\n",
    "    \n",
    "    # Fill NaN values, convert to lowercase, and apply utf-8 formatting\n",
    "    df_flatted['warranty'] = df_flatted['warranty'].fillna('sin_datos').str.lower().apply(formatear_utf_8)\n",
    "    \n",
    "    # Define mapping rules\n",
    "    mapping_rules = [\n",
    "        ('fabr', 'si'),\n",
    "        ('meses', 'si'),\n",
    "        ('reputacion', 'sin garantia'),\n",
    "        ('con garantia', 'si'),\n",
    "        ('garantia total', 'si'),\n",
    "        ('ano', 'si')\n",
    "    ]\n",
    "    \n",
    "   \n",
    "    def map_warranty(warranty):\n",
    "        for substring, replacement in mapping_rules:\n",
    "            if substring in warranty:\n",
    "                return replacement\n",
    "        return warranty\n",
    "    \n",
    "    df_flatted['warranty'] = df_flatted['warranty'].apply(map_warranty)    \n",
    "    df_flatted['warranty'] = df_flatted['warranty'].apply(lambda x: x if x in lista_warranty else 'otros')\n",
    "    \n",
    "    return df_flatted\n",
    "\n",
    "\n",
    "def tags(df_flatted):\n",
    "    '''\n",
    "    exploto tags\n",
    "    dropeo duplicados de los casos con doble tag y me quedo con el de la clase minoritaria (para mas info)\n",
    "    lleno nan con no_info\n",
    "    \n",
    "    '''\n",
    "    print('Procesando tags...')\n",
    "    list_tags = ['dragged_bids_and_visits', 'no_info']\n",
    "    \n",
    "    tags_df = df_flatted['tags'].explode()\n",
    "    tags_df.fillna('no_info', inplace=True)\n",
    "    tags_df = tags_df.apply(lambda x: x if x in list_tags else 'otros')\n",
    "    df_flatted['tags'] = tags_df[~tags_df.index.duplicated(keep='first')]\n",
    "    \n",
    "    return df_flatted\n",
    "\n",
    "def process_title(df):\n",
    "    \n",
    "    print('Formateando features a utf-8...')    \n",
    "    df_nlp = df.copy()         \n",
    "    shape_init = len(df_nlp)\n",
    "    \n",
    "    #renombro nan a sin datos\n",
    "    df_nlp['title'] = df_nlp['title'].fillna(value='nan')\n",
    "    \n",
    "    #paso todo a lower case\n",
    "    df_nlp['title'] = df_nlp['title'].str.lower()    \n",
    "    \n",
    "    #formateo todo a utf-8\n",
    "    df_nlp['title'] = df_nlp['title'].apply(lambda x: formatear_utf_8(x))    \n",
    "    \n",
    "    if shape_init - len(df_nlp) != 0:\n",
    "        print('se perdieron registros, chequear')  \n",
    "    return df_nlp\n",
    "\n",
    "\n",
    "def listings_type_id(df_flatted):\n",
    "    \n",
    "    print('Procesando listings...')\n",
    "    \n",
    "    df_flatted['listing_type_id'] = df_flatted['listing_type_id'].apply(lambda x: 'gold' if 'gold' in x else x).copy()\n",
    "\n",
    "    df_flatted['listing_type_id'].replace({'free':1,\n",
    "                                           'bronze':2,\n",
    "                                           'silver':3,\n",
    "                                           'gold':4}, inplace=True)   \n",
    "    return df_flatted\n"
   ]
  },
  {
   "cell_type": "markdown",
   "id": "7afe6e73-2114-41fa-aad7-65162904a156",
   "metadata": {},
   "source": [
    "# Cargar la data desde json"
   ]
  },
  {
   "cell_type": "code",
   "execution_count": 25,
   "id": "0b67eb06-8607-487c-901d-3de3e4cca03d",
   "metadata": {
    "tags": []
   },
   "outputs": [
    {
     "name": "stdout",
     "output_type": "stream",
     "text": [
      "Loading dataset...\n",
      "Normalizando json...\n",
      "Normalizando json...\n"
     ]
    }
   ],
   "source": [
    "print(\"Loading dataset...\")\n",
    "\n",
    "X_train, y_train, X_test, y_test = build_dataset()\n",
    "\n",
    "X_train, y_train = normalize_data(X_train, y_train)\n",
    "X_test, y_test = normalize_data(X_test, y_test) "
   ]
  },
  {
   "cell_type": "code",
   "execution_count": 26,
   "id": "51f0a176-4bd4-49c6-be7e-82b1bb01026c",
   "metadata": {
    "tags": []
   },
   "outputs": [
    {
     "name": "stdout",
     "output_type": "stream",
     "text": [
      "Formateando features a utf-8...\n",
      "Procesando tags...\n",
      "Procesando warranty...\n",
      "Procesando listings...\n"
     ]
    }
   ],
   "source": [
    "X_train['condition'] = X_train['condition'].replace({'new':1, 'used':0})\n",
    "X_train = process_title(X_train)\n",
    "X_train = tags(X_train)\n",
    "X_train = warranty(X_train)\n",
    "X_train = listings_type_id(X_train)"
   ]
  },
  {
   "cell_type": "code",
   "execution_count": 27,
   "id": "14556e70-d426-42a3-8969-07cf3b07f931",
   "metadata": {},
   "outputs": [],
   "source": [
    "useful_cols = ['warranty', 'listing_type_id', 'price', 'buying_mode','category_id','title','condition','tags','initial_quantity']\n",
    "X_train = X_train[useful_cols]"
   ]
  },
  {
   "cell_type": "markdown",
   "id": "30e83bc5-871b-4eaa-8502-a65e3f206277",
   "metadata": {},
   "source": [
    "## probamos creando embeddings para title"
   ]
  },
  {
   "cell_type": "code",
   "execution_count": null,
   "id": "45ace36b-bef4-4103-bb67-c7ace5322848",
   "metadata": {
    "tags": []
   },
   "outputs": [],
   "source": [
    "tokenizer = AutoTokenizer.from_pretrained('bert-base-uncased')\n",
    "model = AutoModel.from_pretrained('bert-base-uncased')"
   ]
  },
  {
   "cell_type": "code",
   "execution_count": null,
   "id": "31557eb9-ac8a-452d-9686-308ef38c83ae",
   "metadata": {
    "tags": []
   },
   "outputs": [],
   "source": [
    "def get_embeddings(text, tokenizer, model):\n",
    "    inputs = tokenizer(text, return_tensors='pt', padding=True, truncation=True, max_length=128)\n",
    "    with torch.no_grad():\n",
    "        outputs = model(**inputs)\n",
    "    embeddings = outputs.last_hidden_state.mean(dim=1)\n",
    "    return embeddings"
   ]
  },
  {
   "cell_type": "code",
   "execution_count": null,
   "id": "87d4e696-dd09-4040-90d0-77f6f31bed2b",
   "metadata": {
    "tags": []
   },
   "outputs": [],
   "source": [
    "if torch.cuda.is_available():\n",
    "    print(\"GPU is available and being used by PyTorch.\")\n",
    "    print(f\"Number of GPUs available: {torch.cuda.device_count()}\")\n",
    "    print(f\"Current GPU device: {torch.cuda.current_device()}\")\n",
    "    print(f\"Device name: {torch.cuda.get_device_name(torch.cuda.current_device())}\")\n",
    "else:\n",
    "    print(\"No GPU available, PyTorch is using the CPU.\")"
   ]
  },
  {
   "cell_type": "code",
   "execution_count": null,
   "id": "ed265dea-d310-4656-b7d1-3be9f973657c",
   "metadata": {
    "tags": []
   },
   "outputs": [],
   "source": [
    "embeddings = []\n",
    "for title in tqdm(X_train['title']):\n",
    "    embedding = get_embeddings(title, tokenizer, model)\n",
    "    embeddings.append(embedding.squeeze().numpy())\n",
    "\n",
    "# Convert embeddings list to a DataFrame\n",
    "embeddings_df = pd.DataFrame(embeddings)\n",
    "\n",
    "# Concatenate the embeddings DataFrame with the original DataFrame\n",
    "df_with_embeddings = pd.concat([X_train, embeddings_df], axis=1)"
   ]
  },
  {
   "cell_type": "code",
   "execution_count": null,
   "id": "fd3ba11a-d4c6-4eba-99ad-6419c1ea2554",
   "metadata": {
    "tags": []
   },
   "outputs": [],
   "source": [
    "df_with_embeddings.to_csv('dataset_embeddings.csv')"
   ]
  },
  {
   "cell_type": "code",
   "execution_count": null,
   "id": "04a09ff6-423b-4e30-837b-c9ba2ff9701b",
   "metadata": {
    "tags": []
   },
   "outputs": [],
   "source": [
    "df_with_embeddings"
   ]
  },
  {
   "cell_type": "markdown",
   "id": "f0160c85-412b-4b80-901a-8d576614573f",
   "metadata": {},
   "source": [
    "## Probamos random forest simple"
   ]
  },
  {
   "cell_type": "code",
   "execution_count": 21,
   "id": "6f56df5c-ccae-40b3-a377-684e3cf6b021",
   "metadata": {
    "tags": []
   },
   "outputs": [],
   "source": [
    "import pandas as pd\n",
    "from sklearn.model_selection import train_test_split\n",
    "from sklearn.preprocessing import OneHotEncoder\n",
    "from sklearn.ensemble import RandomForestClassifier\n",
    "from sklearn.metrics import accuracy_score"
   ]
  },
  {
   "cell_type": "code",
   "execution_count": 33,
   "id": "0e59df3e-8cc2-4226-9cfe-7603a8d5b33f",
   "metadata": {
    "tags": []
   },
   "outputs": [],
   "source": [
    "# Separate features and target\n",
    "X = X_train.copy().drop('condition', axis=1)\n",
    "y = X_train['condition']\n",
    "\n",
    "X.drop(['category_id', 'title'], axis=1, inplace=True)\n",
    "\n",
    "categorical_features = X.select_dtypes(include=['object']).columns.tolist()\n",
    "\n",
    "encoder = OneHotEncoder(sparse=False, drop='first')\n",
    "X_encoded = encoder.fit_transform(X[categorical_features])\n",
    "\n",
    "X_encoded_df = pd.DataFrame(X_encoded, columns=encoder.get_feature_names_out(categorical_features))\n",
    "\n",
    "X_encoded_df.columns = X_encoded_df.columns.astype(str)\n",
    "\n",
    "X = X.drop(categorical_features, axis=1)\n",
    "X = pd.concat([X, X_encoded_df], axis=1)\n",
    "\n",
    "X.columns = X.columns.astype(str)\n",
    "\n",
    "X_train, X_test, y_train, y_test = train_test_split(X, y, test_size=0.2, random_state=42)"
   ]
  },
  {
   "cell_type": "code",
   "execution_count": 35,
   "id": "a7fb457c-88f1-4fb0-8d3b-fbc0b9022641",
   "metadata": {
    "tags": []
   },
   "outputs": [
    {
     "name": "stdout",
     "output_type": "stream",
     "text": [
      "Accuracy: 0.82\n"
     ]
    }
   ],
   "source": [
    "# Initialize and train the RandomForestClassifier\n",
    "rf = RandomForestClassifier(n_estimators=100, random_state=42)\n",
    "rf.fit(X_train, y_train)\n",
    "\n",
    "# Predict on the test set\n",
    "y_pred = rf.predict(X_test)\n",
    "\n",
    "# Evaluate the model\n",
    "accuracy = accuracy_score(y_test, y_pred)\n",
    "print(f'Accuracy: {accuracy:.2f}')"
   ]
  },
  {
   "cell_type": "code",
   "execution_count": 36,
   "id": "c31e035d-e26c-46ba-8452-605cffa04424",
   "metadata": {},
   "outputs": [],
   "source": [
    "import shap"
   ]
  },
  {
   "cell_type": "code",
   "execution_count": null,
   "id": "e066039b-0fbc-46c8-a627-cf70ae4241c7",
   "metadata": {},
   "outputs": [],
   "source": [
    "explainer = shap.TreeExplainer(rf)\n",
    "shap_values = explainer.shap_values(X_test)"
   ]
  },
  {
   "cell_type": "code",
   "execution_count": null,
   "id": "ae2a2c2c-a9c5-4738-b6ea-8304d6f3617c",
   "metadata": {},
   "outputs": [],
   "source": [
    "shap.summary_plot(shap_values, X_test, plot_type=\"bar\")\n"
   ]
  },
  {
   "cell_type": "markdown",
   "id": "67affd52-bfa0-4129-8e63-58116c6f412b",
   "metadata": {},
   "source": [
    "## Usando PyCaret"
   ]
  },
  {
   "cell_type": "code",
   "execution_count": 24,
   "id": "cb9404eb-caf6-4a34-a853-d45492f01f94",
   "metadata": {},
   "outputs": [
    {
     "ename": "ValueError",
     "evalue": "Invalid value for the target parameter. Column condition not found in the data.",
     "output_type": "error",
     "traceback": [
      "\u001b[1;31m---------------------------------------------------------------------------\u001b[0m",
      "\u001b[1;31mValueError\u001b[0m                                Traceback (most recent call last)",
      "Cell \u001b[1;32mIn[24], line 2\u001b[0m\n\u001b[0;32m      1\u001b[0m \u001b[38;5;28;01mfrom\u001b[39;00m \u001b[38;5;21;01mpycaret\u001b[39;00m\u001b[38;5;21;01m.\u001b[39;00m\u001b[38;5;21;01mclassification\u001b[39;00m \u001b[38;5;28;01mimport\u001b[39;00m \u001b[38;5;241m*\u001b[39m\n\u001b[1;32m----> 2\u001b[0m clf1 \u001b[38;5;241m=\u001b[39m \u001b[43msetup\u001b[49m\u001b[43m(\u001b[49m\u001b[43mX_train\u001b[49m\u001b[43m,\u001b[49m\u001b[43m \u001b[49m\u001b[43mtarget\u001b[49m\u001b[43m \u001b[49m\u001b[38;5;241;43m=\u001b[39;49m\u001b[43m \u001b[49m\u001b[38;5;124;43m'\u001b[39;49m\u001b[38;5;124;43mcondition\u001b[39;49m\u001b[38;5;124;43m'\u001b[39;49m\u001b[43m,\u001b[49m\u001b[43m \u001b[49m\u001b[43msession_id\u001b[49m\u001b[38;5;241;43m=\u001b[39;49m\u001b[38;5;241;43m123\u001b[39;49m\u001b[43m,\u001b[49m\u001b[43m \u001b[49m\u001b[43mlog_experiment\u001b[49m\u001b[38;5;241;43m=\u001b[39;49m\u001b[38;5;28;43;01mTrue\u001b[39;49;00m\u001b[43m,\u001b[49m\u001b[43m \u001b[49m\u001b[43mexperiment_name\u001b[49m\u001b[38;5;241;43m=\u001b[39;49m\u001b[38;5;124;43m'\u001b[39;49m\u001b[38;5;124;43mpycaret_primer_run\u001b[39;49m\u001b[38;5;124;43m'\u001b[39;49m\u001b[43m)\u001b[49m\n",
      "File \u001b[1;32m~\\mambaforge\\envs\\pycaret\\lib\\site-packages\\pycaret\\classification\\functional.py:595\u001b[0m, in \u001b[0;36msetup\u001b[1;34m(data, data_func, target, index, train_size, test_data, ordinal_features, numeric_features, categorical_features, date_features, text_features, ignore_features, keep_features, preprocess, create_date_columns, imputation_type, numeric_imputation, categorical_imputation, iterative_imputation_iters, numeric_iterative_imputer, categorical_iterative_imputer, text_features_method, max_encoding_ohe, encoding_method, rare_to_value, rare_value, polynomial_features, polynomial_degree, low_variance_threshold, group_features, drop_groups, remove_multicollinearity, multicollinearity_threshold, bin_numeric_features, remove_outliers, outliers_method, outliers_threshold, fix_imbalance, fix_imbalance_method, transformation, transformation_method, normalize, normalize_method, pca, pca_method, pca_components, feature_selection, feature_selection_method, feature_selection_estimator, n_features_to_select, custom_pipeline, custom_pipeline_position, data_split_shuffle, data_split_stratify, fold_strategy, fold, fold_shuffle, fold_groups, n_jobs, use_gpu, html, session_id, system_log, log_experiment, experiment_name, experiment_custom_tags, log_plots, log_profile, log_data, verbose, memory, profile, profile_kwargs)\u001b[0m\n\u001b[0;32m    593\u001b[0m exp \u001b[38;5;241m=\u001b[39m _EXPERIMENT_CLASS()\n\u001b[0;32m    594\u001b[0m set_current_experiment(exp)\n\u001b[1;32m--> 595\u001b[0m \u001b[38;5;28;01mreturn\u001b[39;00m \u001b[43mexp\u001b[49m\u001b[38;5;241;43m.\u001b[39;49m\u001b[43msetup\u001b[49m\u001b[43m(\u001b[49m\n\u001b[0;32m    596\u001b[0m \u001b[43m    \u001b[49m\u001b[43mdata\u001b[49m\u001b[38;5;241;43m=\u001b[39;49m\u001b[43mdata\u001b[49m\u001b[43m,\u001b[49m\n\u001b[0;32m    597\u001b[0m \u001b[43m    \u001b[49m\u001b[43mdata_func\u001b[49m\u001b[38;5;241;43m=\u001b[39;49m\u001b[43mdata_func\u001b[49m\u001b[43m,\u001b[49m\n\u001b[0;32m    598\u001b[0m \u001b[43m    \u001b[49m\u001b[43mtarget\u001b[49m\u001b[38;5;241;43m=\u001b[39;49m\u001b[43mtarget\u001b[49m\u001b[43m,\u001b[49m\n\u001b[0;32m    599\u001b[0m \u001b[43m    \u001b[49m\u001b[43mindex\u001b[49m\u001b[38;5;241;43m=\u001b[39;49m\u001b[43mindex\u001b[49m\u001b[43m,\u001b[49m\n\u001b[0;32m    600\u001b[0m \u001b[43m    \u001b[49m\u001b[43mtrain_size\u001b[49m\u001b[38;5;241;43m=\u001b[39;49m\u001b[43mtrain_size\u001b[49m\u001b[43m,\u001b[49m\n\u001b[0;32m    601\u001b[0m \u001b[43m    \u001b[49m\u001b[43mtest_data\u001b[49m\u001b[38;5;241;43m=\u001b[39;49m\u001b[43mtest_data\u001b[49m\u001b[43m,\u001b[49m\n\u001b[0;32m    602\u001b[0m \u001b[43m    \u001b[49m\u001b[43mordinal_features\u001b[49m\u001b[38;5;241;43m=\u001b[39;49m\u001b[43mordinal_features\u001b[49m\u001b[43m,\u001b[49m\n\u001b[0;32m    603\u001b[0m \u001b[43m    \u001b[49m\u001b[43mnumeric_features\u001b[49m\u001b[38;5;241;43m=\u001b[39;49m\u001b[43mnumeric_features\u001b[49m\u001b[43m,\u001b[49m\n\u001b[0;32m    604\u001b[0m \u001b[43m    \u001b[49m\u001b[43mcategorical_features\u001b[49m\u001b[38;5;241;43m=\u001b[39;49m\u001b[43mcategorical_features\u001b[49m\u001b[43m,\u001b[49m\n\u001b[0;32m    605\u001b[0m \u001b[43m    \u001b[49m\u001b[43mdate_features\u001b[49m\u001b[38;5;241;43m=\u001b[39;49m\u001b[43mdate_features\u001b[49m\u001b[43m,\u001b[49m\n\u001b[0;32m    606\u001b[0m \u001b[43m    \u001b[49m\u001b[43mtext_features\u001b[49m\u001b[38;5;241;43m=\u001b[39;49m\u001b[43mtext_features\u001b[49m\u001b[43m,\u001b[49m\n\u001b[0;32m    607\u001b[0m \u001b[43m    \u001b[49m\u001b[43mignore_features\u001b[49m\u001b[38;5;241;43m=\u001b[39;49m\u001b[43mignore_features\u001b[49m\u001b[43m,\u001b[49m\n\u001b[0;32m    608\u001b[0m \u001b[43m    \u001b[49m\u001b[43mkeep_features\u001b[49m\u001b[38;5;241;43m=\u001b[39;49m\u001b[43mkeep_features\u001b[49m\u001b[43m,\u001b[49m\n\u001b[0;32m    609\u001b[0m \u001b[43m    \u001b[49m\u001b[43mpreprocess\u001b[49m\u001b[38;5;241;43m=\u001b[39;49m\u001b[43mpreprocess\u001b[49m\u001b[43m,\u001b[49m\n\u001b[0;32m    610\u001b[0m \u001b[43m    \u001b[49m\u001b[43mcreate_date_columns\u001b[49m\u001b[38;5;241;43m=\u001b[39;49m\u001b[43mcreate_date_columns\u001b[49m\u001b[43m,\u001b[49m\n\u001b[0;32m    611\u001b[0m \u001b[43m    \u001b[49m\u001b[43mimputation_type\u001b[49m\u001b[38;5;241;43m=\u001b[39;49m\u001b[43mimputation_type\u001b[49m\u001b[43m,\u001b[49m\n\u001b[0;32m    612\u001b[0m \u001b[43m    \u001b[49m\u001b[43mnumeric_imputation\u001b[49m\u001b[38;5;241;43m=\u001b[39;49m\u001b[43mnumeric_imputation\u001b[49m\u001b[43m,\u001b[49m\n\u001b[0;32m    613\u001b[0m \u001b[43m    \u001b[49m\u001b[43mcategorical_imputation\u001b[49m\u001b[38;5;241;43m=\u001b[39;49m\u001b[43mcategorical_imputation\u001b[49m\u001b[43m,\u001b[49m\n\u001b[0;32m    614\u001b[0m \u001b[43m    \u001b[49m\u001b[43miterative_imputation_iters\u001b[49m\u001b[38;5;241;43m=\u001b[39;49m\u001b[43miterative_imputation_iters\u001b[49m\u001b[43m,\u001b[49m\n\u001b[0;32m    615\u001b[0m \u001b[43m    \u001b[49m\u001b[43mnumeric_iterative_imputer\u001b[49m\u001b[38;5;241;43m=\u001b[39;49m\u001b[43mnumeric_iterative_imputer\u001b[49m\u001b[43m,\u001b[49m\n\u001b[0;32m    616\u001b[0m \u001b[43m    \u001b[49m\u001b[43mcategorical_iterative_imputer\u001b[49m\u001b[38;5;241;43m=\u001b[39;49m\u001b[43mcategorical_iterative_imputer\u001b[49m\u001b[43m,\u001b[49m\n\u001b[0;32m    617\u001b[0m \u001b[43m    \u001b[49m\u001b[43mtext_features_method\u001b[49m\u001b[38;5;241;43m=\u001b[39;49m\u001b[43mtext_features_method\u001b[49m\u001b[43m,\u001b[49m\n\u001b[0;32m    618\u001b[0m \u001b[43m    \u001b[49m\u001b[43mmax_encoding_ohe\u001b[49m\u001b[38;5;241;43m=\u001b[39;49m\u001b[43mmax_encoding_ohe\u001b[49m\u001b[43m,\u001b[49m\n\u001b[0;32m    619\u001b[0m \u001b[43m    \u001b[49m\u001b[43mencoding_method\u001b[49m\u001b[38;5;241;43m=\u001b[39;49m\u001b[43mencoding_method\u001b[49m\u001b[43m,\u001b[49m\n\u001b[0;32m    620\u001b[0m \u001b[43m    \u001b[49m\u001b[43mrare_to_value\u001b[49m\u001b[38;5;241;43m=\u001b[39;49m\u001b[43mrare_to_value\u001b[49m\u001b[43m,\u001b[49m\n\u001b[0;32m    621\u001b[0m \u001b[43m    \u001b[49m\u001b[43mrare_value\u001b[49m\u001b[38;5;241;43m=\u001b[39;49m\u001b[43mrare_value\u001b[49m\u001b[43m,\u001b[49m\n\u001b[0;32m    622\u001b[0m \u001b[43m    \u001b[49m\u001b[43mpolynomial_features\u001b[49m\u001b[38;5;241;43m=\u001b[39;49m\u001b[43mpolynomial_features\u001b[49m\u001b[43m,\u001b[49m\n\u001b[0;32m    623\u001b[0m \u001b[43m    \u001b[49m\u001b[43mpolynomial_degree\u001b[49m\u001b[38;5;241;43m=\u001b[39;49m\u001b[43mpolynomial_degree\u001b[49m\u001b[43m,\u001b[49m\n\u001b[0;32m    624\u001b[0m \u001b[43m    \u001b[49m\u001b[43mlow_variance_threshold\u001b[49m\u001b[38;5;241;43m=\u001b[39;49m\u001b[43mlow_variance_threshold\u001b[49m\u001b[43m,\u001b[49m\n\u001b[0;32m    625\u001b[0m \u001b[43m    \u001b[49m\u001b[43mgroup_features\u001b[49m\u001b[38;5;241;43m=\u001b[39;49m\u001b[43mgroup_features\u001b[49m\u001b[43m,\u001b[49m\n\u001b[0;32m    626\u001b[0m \u001b[43m    \u001b[49m\u001b[43mdrop_groups\u001b[49m\u001b[38;5;241;43m=\u001b[39;49m\u001b[43mdrop_groups\u001b[49m\u001b[43m,\u001b[49m\n\u001b[0;32m    627\u001b[0m \u001b[43m    \u001b[49m\u001b[43mremove_multicollinearity\u001b[49m\u001b[38;5;241;43m=\u001b[39;49m\u001b[43mremove_multicollinearity\u001b[49m\u001b[43m,\u001b[49m\n\u001b[0;32m    628\u001b[0m \u001b[43m    \u001b[49m\u001b[43mmulticollinearity_threshold\u001b[49m\u001b[38;5;241;43m=\u001b[39;49m\u001b[43mmulticollinearity_threshold\u001b[49m\u001b[43m,\u001b[49m\n\u001b[0;32m    629\u001b[0m \u001b[43m    \u001b[49m\u001b[43mbin_numeric_features\u001b[49m\u001b[38;5;241;43m=\u001b[39;49m\u001b[43mbin_numeric_features\u001b[49m\u001b[43m,\u001b[49m\n\u001b[0;32m    630\u001b[0m \u001b[43m    \u001b[49m\u001b[43mremove_outliers\u001b[49m\u001b[38;5;241;43m=\u001b[39;49m\u001b[43mremove_outliers\u001b[49m\u001b[43m,\u001b[49m\n\u001b[0;32m    631\u001b[0m \u001b[43m    \u001b[49m\u001b[43moutliers_method\u001b[49m\u001b[38;5;241;43m=\u001b[39;49m\u001b[43moutliers_method\u001b[49m\u001b[43m,\u001b[49m\n\u001b[0;32m    632\u001b[0m \u001b[43m    \u001b[49m\u001b[43moutliers_threshold\u001b[49m\u001b[38;5;241;43m=\u001b[39;49m\u001b[43moutliers_threshold\u001b[49m\u001b[43m,\u001b[49m\n\u001b[0;32m    633\u001b[0m \u001b[43m    \u001b[49m\u001b[43mfix_imbalance\u001b[49m\u001b[38;5;241;43m=\u001b[39;49m\u001b[43mfix_imbalance\u001b[49m\u001b[43m,\u001b[49m\n\u001b[0;32m    634\u001b[0m \u001b[43m    \u001b[49m\u001b[43mfix_imbalance_method\u001b[49m\u001b[38;5;241;43m=\u001b[39;49m\u001b[43mfix_imbalance_method\u001b[49m\u001b[43m,\u001b[49m\n\u001b[0;32m    635\u001b[0m \u001b[43m    \u001b[49m\u001b[43mtransformation\u001b[49m\u001b[38;5;241;43m=\u001b[39;49m\u001b[43mtransformation\u001b[49m\u001b[43m,\u001b[49m\n\u001b[0;32m    636\u001b[0m \u001b[43m    \u001b[49m\u001b[43mtransformation_method\u001b[49m\u001b[38;5;241;43m=\u001b[39;49m\u001b[43mtransformation_method\u001b[49m\u001b[43m,\u001b[49m\n\u001b[0;32m    637\u001b[0m \u001b[43m    \u001b[49m\u001b[43mnormalize\u001b[49m\u001b[38;5;241;43m=\u001b[39;49m\u001b[43mnormalize\u001b[49m\u001b[43m,\u001b[49m\n\u001b[0;32m    638\u001b[0m \u001b[43m    \u001b[49m\u001b[43mnormalize_method\u001b[49m\u001b[38;5;241;43m=\u001b[39;49m\u001b[43mnormalize_method\u001b[49m\u001b[43m,\u001b[49m\n\u001b[0;32m    639\u001b[0m \u001b[43m    \u001b[49m\u001b[43mpca\u001b[49m\u001b[38;5;241;43m=\u001b[39;49m\u001b[43mpca\u001b[49m\u001b[43m,\u001b[49m\n\u001b[0;32m    640\u001b[0m \u001b[43m    \u001b[49m\u001b[43mpca_method\u001b[49m\u001b[38;5;241;43m=\u001b[39;49m\u001b[43mpca_method\u001b[49m\u001b[43m,\u001b[49m\n\u001b[0;32m    641\u001b[0m \u001b[43m    \u001b[49m\u001b[43mpca_components\u001b[49m\u001b[38;5;241;43m=\u001b[39;49m\u001b[43mpca_components\u001b[49m\u001b[43m,\u001b[49m\n\u001b[0;32m    642\u001b[0m \u001b[43m    \u001b[49m\u001b[43mfeature_selection\u001b[49m\u001b[38;5;241;43m=\u001b[39;49m\u001b[43mfeature_selection\u001b[49m\u001b[43m,\u001b[49m\n\u001b[0;32m    643\u001b[0m \u001b[43m    \u001b[49m\u001b[43mfeature_selection_method\u001b[49m\u001b[38;5;241;43m=\u001b[39;49m\u001b[43mfeature_selection_method\u001b[49m\u001b[43m,\u001b[49m\n\u001b[0;32m    644\u001b[0m \u001b[43m    \u001b[49m\u001b[43mfeature_selection_estimator\u001b[49m\u001b[38;5;241;43m=\u001b[39;49m\u001b[43mfeature_selection_estimator\u001b[49m\u001b[43m,\u001b[49m\n\u001b[0;32m    645\u001b[0m \u001b[43m    \u001b[49m\u001b[43mn_features_to_select\u001b[49m\u001b[38;5;241;43m=\u001b[39;49m\u001b[43mn_features_to_select\u001b[49m\u001b[43m,\u001b[49m\n\u001b[0;32m    646\u001b[0m \u001b[43m    \u001b[49m\u001b[43mcustom_pipeline\u001b[49m\u001b[38;5;241;43m=\u001b[39;49m\u001b[43mcustom_pipeline\u001b[49m\u001b[43m,\u001b[49m\n\u001b[0;32m    647\u001b[0m \u001b[43m    \u001b[49m\u001b[43mcustom_pipeline_position\u001b[49m\u001b[38;5;241;43m=\u001b[39;49m\u001b[43mcustom_pipeline_position\u001b[49m\u001b[43m,\u001b[49m\n\u001b[0;32m    648\u001b[0m \u001b[43m    \u001b[49m\u001b[43mdata_split_shuffle\u001b[49m\u001b[38;5;241;43m=\u001b[39;49m\u001b[43mdata_split_shuffle\u001b[49m\u001b[43m,\u001b[49m\n\u001b[0;32m    649\u001b[0m \u001b[43m    \u001b[49m\u001b[43mdata_split_stratify\u001b[49m\u001b[38;5;241;43m=\u001b[39;49m\u001b[43mdata_split_stratify\u001b[49m\u001b[43m,\u001b[49m\n\u001b[0;32m    650\u001b[0m \u001b[43m    \u001b[49m\u001b[43mfold_strategy\u001b[49m\u001b[38;5;241;43m=\u001b[39;49m\u001b[43mfold_strategy\u001b[49m\u001b[43m,\u001b[49m\n\u001b[0;32m    651\u001b[0m \u001b[43m    \u001b[49m\u001b[43mfold\u001b[49m\u001b[38;5;241;43m=\u001b[39;49m\u001b[43mfold\u001b[49m\u001b[43m,\u001b[49m\n\u001b[0;32m    652\u001b[0m \u001b[43m    \u001b[49m\u001b[43mfold_shuffle\u001b[49m\u001b[38;5;241;43m=\u001b[39;49m\u001b[43mfold_shuffle\u001b[49m\u001b[43m,\u001b[49m\n\u001b[0;32m    653\u001b[0m \u001b[43m    \u001b[49m\u001b[43mfold_groups\u001b[49m\u001b[38;5;241;43m=\u001b[39;49m\u001b[43mfold_groups\u001b[49m\u001b[43m,\u001b[49m\n\u001b[0;32m    654\u001b[0m \u001b[43m    \u001b[49m\u001b[43mn_jobs\u001b[49m\u001b[38;5;241;43m=\u001b[39;49m\u001b[43mn_jobs\u001b[49m\u001b[43m,\u001b[49m\n\u001b[0;32m    655\u001b[0m \u001b[43m    \u001b[49m\u001b[43muse_gpu\u001b[49m\u001b[38;5;241;43m=\u001b[39;49m\u001b[43muse_gpu\u001b[49m\u001b[43m,\u001b[49m\n\u001b[0;32m    656\u001b[0m \u001b[43m    \u001b[49m\u001b[43mhtml\u001b[49m\u001b[38;5;241;43m=\u001b[39;49m\u001b[43mhtml\u001b[49m\u001b[43m,\u001b[49m\n\u001b[0;32m    657\u001b[0m \u001b[43m    \u001b[49m\u001b[43msession_id\u001b[49m\u001b[38;5;241;43m=\u001b[39;49m\u001b[43msession_id\u001b[49m\u001b[43m,\u001b[49m\n\u001b[0;32m    658\u001b[0m \u001b[43m    \u001b[49m\u001b[43msystem_log\u001b[49m\u001b[38;5;241;43m=\u001b[39;49m\u001b[43msystem_log\u001b[49m\u001b[43m,\u001b[49m\n\u001b[0;32m    659\u001b[0m \u001b[43m    \u001b[49m\u001b[43mlog_experiment\u001b[49m\u001b[38;5;241;43m=\u001b[39;49m\u001b[43mlog_experiment\u001b[49m\u001b[43m,\u001b[49m\n\u001b[0;32m    660\u001b[0m \u001b[43m    \u001b[49m\u001b[43mexperiment_name\u001b[49m\u001b[38;5;241;43m=\u001b[39;49m\u001b[43mexperiment_name\u001b[49m\u001b[43m,\u001b[49m\n\u001b[0;32m    661\u001b[0m \u001b[43m    \u001b[49m\u001b[43mexperiment_custom_tags\u001b[49m\u001b[38;5;241;43m=\u001b[39;49m\u001b[43mexperiment_custom_tags\u001b[49m\u001b[43m,\u001b[49m\n\u001b[0;32m    662\u001b[0m \u001b[43m    \u001b[49m\u001b[43mlog_plots\u001b[49m\u001b[38;5;241;43m=\u001b[39;49m\u001b[43mlog_plots\u001b[49m\u001b[43m,\u001b[49m\n\u001b[0;32m    663\u001b[0m \u001b[43m    \u001b[49m\u001b[43mlog_profile\u001b[49m\u001b[38;5;241;43m=\u001b[39;49m\u001b[43mlog_profile\u001b[49m\u001b[43m,\u001b[49m\n\u001b[0;32m    664\u001b[0m \u001b[43m    \u001b[49m\u001b[43mlog_data\u001b[49m\u001b[38;5;241;43m=\u001b[39;49m\u001b[43mlog_data\u001b[49m\u001b[43m,\u001b[49m\n\u001b[0;32m    665\u001b[0m \u001b[43m    \u001b[49m\u001b[43mverbose\u001b[49m\u001b[38;5;241;43m=\u001b[39;49m\u001b[43mverbose\u001b[49m\u001b[43m,\u001b[49m\n\u001b[0;32m    666\u001b[0m \u001b[43m    \u001b[49m\u001b[43mmemory\u001b[49m\u001b[38;5;241;43m=\u001b[39;49m\u001b[43mmemory\u001b[49m\u001b[43m,\u001b[49m\n\u001b[0;32m    667\u001b[0m \u001b[43m    \u001b[49m\u001b[43mprofile\u001b[49m\u001b[38;5;241;43m=\u001b[39;49m\u001b[43mprofile\u001b[49m\u001b[43m,\u001b[49m\n\u001b[0;32m    668\u001b[0m \u001b[43m    \u001b[49m\u001b[43mprofile_kwargs\u001b[49m\u001b[38;5;241;43m=\u001b[39;49m\u001b[43mprofile_kwargs\u001b[49m\u001b[43m,\u001b[49m\n\u001b[0;32m    669\u001b[0m \u001b[43m\u001b[49m\u001b[43m)\u001b[49m\n",
      "File \u001b[1;32m~\\mambaforge\\envs\\pycaret\\lib\\site-packages\\pycaret\\classification\\oop.py:744\u001b[0m, in \u001b[0;36mClassificationExperiment.setup\u001b[1;34m(self, data, data_func, target, index, train_size, test_data, ordinal_features, numeric_features, categorical_features, date_features, text_features, ignore_features, keep_features, preprocess, create_date_columns, imputation_type, numeric_imputation, categorical_imputation, iterative_imputation_iters, numeric_iterative_imputer, categorical_iterative_imputer, text_features_method, max_encoding_ohe, encoding_method, rare_to_value, rare_value, polynomial_features, polynomial_degree, low_variance_threshold, group_features, drop_groups, remove_multicollinearity, multicollinearity_threshold, bin_numeric_features, remove_outliers, outliers_method, outliers_threshold, fix_imbalance, fix_imbalance_method, transformation, transformation_method, normalize, normalize_method, pca, pca_method, pca_components, feature_selection, feature_selection_method, feature_selection_estimator, n_features_to_select, custom_pipeline, custom_pipeline_position, data_split_shuffle, data_split_stratify, fold_strategy, fold, fold_shuffle, fold_groups, n_jobs, use_gpu, html, session_id, system_log, log_experiment, experiment_name, experiment_custom_tags, log_plots, log_profile, log_data, engine, verbose, memory, profile, profile_kwargs)\u001b[0m\n\u001b[0;32m    741\u001b[0m \u001b[38;5;28;01mif\u001b[39;00m data_func \u001b[38;5;129;01mis\u001b[39;00m \u001b[38;5;129;01mnot\u001b[39;00m \u001b[38;5;28;01mNone\u001b[39;00m:\n\u001b[0;32m    742\u001b[0m     data \u001b[38;5;241m=\u001b[39m data_func()\n\u001b[1;32m--> 744\u001b[0m \u001b[38;5;28mself\u001b[39m\u001b[38;5;241m.\u001b[39mdata \u001b[38;5;241m=\u001b[39m \u001b[38;5;28;43mself\u001b[39;49m\u001b[38;5;241;43m.\u001b[39;49m\u001b[43m_prepare_dataset\u001b[49m\u001b[43m(\u001b[49m\u001b[43mdata\u001b[49m\u001b[43m,\u001b[49m\u001b[43m \u001b[49m\u001b[43mtarget\u001b[49m\u001b[43m)\u001b[49m\n\u001b[0;32m    745\u001b[0m \u001b[38;5;28mself\u001b[39m\u001b[38;5;241m.\u001b[39mtarget_param \u001b[38;5;241m=\u001b[39m \u001b[38;5;28mself\u001b[39m\u001b[38;5;241m.\u001b[39mdata\u001b[38;5;241m.\u001b[39mcolumns[\u001b[38;5;241m-\u001b[39m\u001b[38;5;241m1\u001b[39m]\n\u001b[0;32m    746\u001b[0m \u001b[38;5;28mself\u001b[39m\u001b[38;5;241m.\u001b[39mindex \u001b[38;5;241m=\u001b[39m index\n",
      "File \u001b[1;32m~\\mambaforge\\envs\\pycaret\\lib\\site-packages\\pycaret\\internal\\preprocess\\preprocessor.py:150\u001b[0m, in \u001b[0;36mPreprocessor._prepare_dataset\u001b[1;34m(self, X, y)\u001b[0m\n\u001b[0;32m    148\u001b[0m \u001b[38;5;28;01melif\u001b[39;00m \u001b[38;5;28misinstance\u001b[39m(y, \u001b[38;5;28mstr\u001b[39m):\n\u001b[0;32m    149\u001b[0m     \u001b[38;5;28;01mif\u001b[39;00m y \u001b[38;5;129;01mnot\u001b[39;00m \u001b[38;5;129;01min\u001b[39;00m X\u001b[38;5;241m.\u001b[39mcolumns:\n\u001b[1;32m--> 150\u001b[0m         \u001b[38;5;28;01mraise\u001b[39;00m \u001b[38;5;167;01mValueError\u001b[39;00m(\n\u001b[0;32m    151\u001b[0m             \u001b[38;5;124m\"\u001b[39m\u001b[38;5;124mInvalid value for the target parameter. \u001b[39m\u001b[38;5;124m\"\u001b[39m\n\u001b[0;32m    152\u001b[0m             \u001b[38;5;124mf\u001b[39m\u001b[38;5;124m\"\u001b[39m\u001b[38;5;124mColumn \u001b[39m\u001b[38;5;132;01m{\u001b[39;00my\u001b[38;5;132;01m}\u001b[39;00m\u001b[38;5;124m not found in the data.\u001b[39m\u001b[38;5;124m\"\u001b[39m\n\u001b[0;32m    153\u001b[0m         )\n\u001b[0;32m    155\u001b[0m     X, y \u001b[38;5;241m=\u001b[39m X\u001b[38;5;241m.\u001b[39mdrop(y, axis\u001b[38;5;241m=\u001b[39m\u001b[38;5;241m1\u001b[39m), X[y]\n\u001b[0;32m    157\u001b[0m \u001b[38;5;28;01melif\u001b[39;00m \u001b[38;5;28misinstance\u001b[39m(y, \u001b[38;5;28mint\u001b[39m):\n",
      "\u001b[1;31mValueError\u001b[0m: Invalid value for the target parameter. Column condition not found in the data."
     ]
    }
   ],
   "source": [
    "from pycaret.classification import *\n",
    "clf1 = setup(X_train, target = 'condition', session_id=123, log_experiment=True, experiment_name='pycaret_primer_run')"
   ]
  },
  {
   "cell_type": "code",
   "execution_count": 38,
   "id": "c11072f6-8999-4228-8dc7-9f7471fbe3c7",
   "metadata": {},
   "outputs": [
    {
     "data": {
      "text/html": [],
      "text/plain": [
       "<IPython.core.display.HTML object>"
      ]
     },
     "metadata": {},
     "output_type": "display_data"
    },
    {
     "data": {
      "text/html": [
       "<style type=\"text/css\">\n",
       "#T_92195 th {\n",
       "  text-align: left;\n",
       "}\n",
       "#T_92195_row0_col0, #T_92195_row0_col2, #T_92195_row0_col4, #T_92195_row0_col6, #T_92195_row0_col7, #T_92195_row1_col0, #T_92195_row1_col1, #T_92195_row1_col2, #T_92195_row1_col3, #T_92195_row1_col4, #T_92195_row1_col5, #T_92195_row1_col6, #T_92195_row1_col7, #T_92195_row2_col0, #T_92195_row2_col1, #T_92195_row2_col2, #T_92195_row2_col3, #T_92195_row2_col4, #T_92195_row2_col5, #T_92195_row2_col6, #T_92195_row2_col7, #T_92195_row3_col0, #T_92195_row3_col1, #T_92195_row3_col2, #T_92195_row3_col3, #T_92195_row3_col4, #T_92195_row3_col5, #T_92195_row3_col6, #T_92195_row3_col7, #T_92195_row4_col0, #T_92195_row4_col1, #T_92195_row4_col3, #T_92195_row4_col4, #T_92195_row4_col5, #T_92195_row4_col6, #T_92195_row4_col7, #T_92195_row5_col0, #T_92195_row5_col1, #T_92195_row5_col2, #T_92195_row5_col3, #T_92195_row5_col4, #T_92195_row5_col5, #T_92195_row5_col6, #T_92195_row5_col7, #T_92195_row6_col0, #T_92195_row6_col1, #T_92195_row6_col2, #T_92195_row6_col3, #T_92195_row6_col4, #T_92195_row6_col5, #T_92195_row6_col6, #T_92195_row6_col7, #T_92195_row7_col0, #T_92195_row7_col1, #T_92195_row7_col2, #T_92195_row7_col3, #T_92195_row7_col4, #T_92195_row7_col5, #T_92195_row7_col6, #T_92195_row7_col7, #T_92195_row8_col0, #T_92195_row8_col1, #T_92195_row8_col2, #T_92195_row8_col3, #T_92195_row8_col5, #T_92195_row9_col0, #T_92195_row9_col1, #T_92195_row9_col2, #T_92195_row9_col3, #T_92195_row9_col4, #T_92195_row9_col5, #T_92195_row9_col6, #T_92195_row9_col7, #T_92195_row10_col0, #T_92195_row10_col1, #T_92195_row10_col2, #T_92195_row10_col3, #T_92195_row10_col4, #T_92195_row10_col5, #T_92195_row10_col6, #T_92195_row10_col7, #T_92195_row11_col0, #T_92195_row11_col1, #T_92195_row11_col2, #T_92195_row11_col3, #T_92195_row11_col4, #T_92195_row11_col5, #T_92195_row11_col6, #T_92195_row11_col7, #T_92195_row12_col0, #T_92195_row12_col1, #T_92195_row12_col2, #T_92195_row12_col3, #T_92195_row12_col4, #T_92195_row12_col5, #T_92195_row12_col6, #T_92195_row12_col7, #T_92195_row13_col0, #T_92195_row13_col1, #T_92195_row13_col2, #T_92195_row13_col3, #T_92195_row13_col4, #T_92195_row13_col5, #T_92195_row13_col6, #T_92195_row13_col7, #T_92195_row14_col0, #T_92195_row14_col1, #T_92195_row14_col2, #T_92195_row14_col3, #T_92195_row14_col4, #T_92195_row14_col5, #T_92195_row14_col6, #T_92195_row14_col7 {\n",
       "  text-align: left;\n",
       "}\n",
       "#T_92195_row0_col1, #T_92195_row0_col3, #T_92195_row0_col5, #T_92195_row4_col2, #T_92195_row8_col4, #T_92195_row8_col6, #T_92195_row8_col7 {\n",
       "  text-align: left;\n",
       "  background-color: yellow;\n",
       "}\n",
       "#T_92195_row0_col8, #T_92195_row2_col8, #T_92195_row3_col8, #T_92195_row4_col8, #T_92195_row5_col8, #T_92195_row6_col8, #T_92195_row7_col8, #T_92195_row8_col8, #T_92195_row9_col8, #T_92195_row10_col8, #T_92195_row11_col8, #T_92195_row12_col8, #T_92195_row13_col8, #T_92195_row14_col8 {\n",
       "  text-align: left;\n",
       "  background-color: lightgrey;\n",
       "}\n",
       "#T_92195_row1_col8 {\n",
       "  text-align: left;\n",
       "  background-color: yellow;\n",
       "  background-color: lightgrey;\n",
       "}\n",
       "</style>\n",
       "<table id=\"T_92195\">\n",
       "  <thead>\n",
       "    <tr>\n",
       "      <th class=\"blank level0\" >&nbsp;</th>\n",
       "      <th id=\"T_92195_level0_col0\" class=\"col_heading level0 col0\" >Model</th>\n",
       "      <th id=\"T_92195_level0_col1\" class=\"col_heading level0 col1\" >Accuracy</th>\n",
       "      <th id=\"T_92195_level0_col2\" class=\"col_heading level0 col2\" >AUC</th>\n",
       "      <th id=\"T_92195_level0_col3\" class=\"col_heading level0 col3\" >Recall</th>\n",
       "      <th id=\"T_92195_level0_col4\" class=\"col_heading level0 col4\" >Prec.</th>\n",
       "      <th id=\"T_92195_level0_col5\" class=\"col_heading level0 col5\" >F1</th>\n",
       "      <th id=\"T_92195_level0_col6\" class=\"col_heading level0 col6\" >Kappa</th>\n",
       "      <th id=\"T_92195_level0_col7\" class=\"col_heading level0 col7\" >MCC</th>\n",
       "      <th id=\"T_92195_level0_col8\" class=\"col_heading level0 col8\" >TT (Sec)</th>\n",
       "    </tr>\n",
       "  </thead>\n",
       "  <tbody>\n",
       "    <tr>\n",
       "      <th id=\"T_92195_level0_row0\" class=\"row_heading level0 row0\" >dummy</th>\n",
       "      <td id=\"T_92195_row0_col0\" class=\"data row0 col0\" >Dummy Classifier</td>\n",
       "      <td id=\"T_92195_row0_col1\" class=\"data row0 col1\" >0.5372</td>\n",
       "      <td id=\"T_92195_row0_col2\" class=\"data row0 col2\" >0.5000</td>\n",
       "      <td id=\"T_92195_row0_col3\" class=\"data row0 col3\" >1.0000</td>\n",
       "      <td id=\"T_92195_row0_col4\" class=\"data row0 col4\" >0.5372</td>\n",
       "      <td id=\"T_92195_row0_col5\" class=\"data row0 col5\" >0.6990</td>\n",
       "      <td id=\"T_92195_row0_col6\" class=\"data row0 col6\" >0.0000</td>\n",
       "      <td id=\"T_92195_row0_col7\" class=\"data row0 col7\" >0.0000</td>\n",
       "      <td id=\"T_92195_row0_col8\" class=\"data row0 col8\" >0.2030</td>\n",
       "    </tr>\n",
       "    <tr>\n",
       "      <th id=\"T_92195_level0_row1\" class=\"row_heading level0 row1\" >ridge</th>\n",
       "      <td id=\"T_92195_row1_col0\" class=\"data row1 col0\" >Ridge Classifier</td>\n",
       "      <td id=\"T_92195_row1_col1\" class=\"data row1 col1\" >0.5366</td>\n",
       "      <td id=\"T_92195_row1_col2\" class=\"data row1 col2\" >0.0000</td>\n",
       "      <td id=\"T_92195_row1_col3\" class=\"data row1 col3\" >0.9936</td>\n",
       "      <td id=\"T_92195_row1_col4\" class=\"data row1 col4\" >0.5372</td>\n",
       "      <td id=\"T_92195_row1_col5\" class=\"data row1 col5\" >0.6973</td>\n",
       "      <td id=\"T_92195_row1_col6\" class=\"data row1 col6\" >-0.0003</td>\n",
       "      <td id=\"T_92195_row1_col7\" class=\"data row1 col7\" >-0.0019</td>\n",
       "      <td id=\"T_92195_row1_col8\" class=\"data row1 col8\" >0.1660</td>\n",
       "    </tr>\n",
       "    <tr>\n",
       "      <th id=\"T_92195_level0_row2\" class=\"row_heading level0 row2\" >lda</th>\n",
       "      <td id=\"T_92195_row2_col0\" class=\"data row2 col0\" >Linear Discriminant Analysis</td>\n",
       "      <td id=\"T_92195_row2_col1\" class=\"data row2 col1\" >0.5366</td>\n",
       "      <td id=\"T_92195_row2_col2\" class=\"data row2 col2\" >0.5017</td>\n",
       "      <td id=\"T_92195_row2_col3\" class=\"data row2 col3\" >0.9936</td>\n",
       "      <td id=\"T_92195_row2_col4\" class=\"data row2 col4\" >0.5372</td>\n",
       "      <td id=\"T_92195_row2_col5\" class=\"data row2 col5\" >0.6973</td>\n",
       "      <td id=\"T_92195_row2_col6\" class=\"data row2 col6\" >-0.0003</td>\n",
       "      <td id=\"T_92195_row2_col7\" class=\"data row2 col7\" >-0.0019</td>\n",
       "      <td id=\"T_92195_row2_col8\" class=\"data row2 col8\" >0.2160</td>\n",
       "    </tr>\n",
       "    <tr>\n",
       "      <th id=\"T_92195_level0_row3\" class=\"row_heading level0 row3\" >qda</th>\n",
       "      <td id=\"T_92195_row3_col0\" class=\"data row3 col0\" >Quadratic Discriminant Analysis</td>\n",
       "      <td id=\"T_92195_row3_col1\" class=\"data row3 col1\" >0.5273</td>\n",
       "      <td id=\"T_92195_row3_col2\" class=\"data row3 col2\" >0.4986</td>\n",
       "      <td id=\"T_92195_row3_col3\" class=\"data row3 col3\" >0.8825</td>\n",
       "      <td id=\"T_92195_row3_col4\" class=\"data row3 col4\" >0.5360</td>\n",
       "      <td id=\"T_92195_row3_col5\" class=\"data row3 col5\" >0.6550</td>\n",
       "      <td id=\"T_92195_row3_col6\" class=\"data row3 col6\" >-0.0028</td>\n",
       "      <td id=\"T_92195_row3_col7\" class=\"data row3 col7\" >-0.0011</td>\n",
       "      <td id=\"T_92195_row3_col8\" class=\"data row3 col8\" >0.1710</td>\n",
       "    </tr>\n",
       "    <tr>\n",
       "      <th id=\"T_92195_level0_row4\" class=\"row_heading level0 row4\" >nb</th>\n",
       "      <td id=\"T_92195_row4_col0\" class=\"data row4 col0\" >Naive Bayes</td>\n",
       "      <td id=\"T_92195_row4_col1\" class=\"data row4 col1\" >0.5222</td>\n",
       "      <td id=\"T_92195_row4_col2\" class=\"data row4 col2\" >0.5029</td>\n",
       "      <td id=\"T_92195_row4_col3\" class=\"data row4 col3\" >0.7987</td>\n",
       "      <td id=\"T_92195_row4_col4\" class=\"data row4 col4\" >0.5048</td>\n",
       "      <td id=\"T_92195_row4_col5\" class=\"data row4 col5\" >0.5590</td>\n",
       "      <td id=\"T_92195_row4_col6\" class=\"data row4 col6\" >-0.0002</td>\n",
       "      <td id=\"T_92195_row4_col7\" class=\"data row4 col7\" >-0.0008</td>\n",
       "      <td id=\"T_92195_row4_col8\" class=\"data row4 col8\" >0.1800</td>\n",
       "    </tr>\n",
       "    <tr>\n",
       "      <th id=\"T_92195_level0_row5\" class=\"row_heading level0 row5\" >knn</th>\n",
       "      <td id=\"T_92195_row5_col0\" class=\"data row5 col0\" >K Neighbors Classifier</td>\n",
       "      <td id=\"T_92195_row5_col1\" class=\"data row5 col1\" >0.5188</td>\n",
       "      <td id=\"T_92195_row5_col2\" class=\"data row5 col2\" >0.5003</td>\n",
       "      <td id=\"T_92195_row5_col3\" class=\"data row5 col3\" >0.7655</td>\n",
       "      <td id=\"T_92195_row5_col4\" class=\"data row5 col4\" >0.5366</td>\n",
       "      <td id=\"T_92195_row5_col5\" class=\"data row5 col5\" >0.6309</td>\n",
       "      <td id=\"T_92195_row5_col6\" class=\"data row5 col6\" >-0.0021</td>\n",
       "      <td id=\"T_92195_row5_col7\" class=\"data row5 col7\" >-0.0023</td>\n",
       "      <td id=\"T_92195_row5_col8\" class=\"data row5 col8\" >0.4440</td>\n",
       "    </tr>\n",
       "    <tr>\n",
       "      <th id=\"T_92195_level0_row6\" class=\"row_heading level0 row6\" >gbc</th>\n",
       "      <td id=\"T_92195_row6_col0\" class=\"data row6 col0\" >Gradient Boosting Classifier</td>\n",
       "      <td id=\"T_92195_row6_col1\" class=\"data row6 col1\" >0.5144</td>\n",
       "      <td id=\"T_92195_row6_col2\" class=\"data row6 col2\" >0.4975</td>\n",
       "      <td id=\"T_92195_row6_col3\" class=\"data row6 col3\" >0.7065</td>\n",
       "      <td id=\"T_92195_row6_col4\" class=\"data row6 col4\" >0.5366</td>\n",
       "      <td id=\"T_92195_row6_col5\" class=\"data row6 col5\" >0.5969</td>\n",
       "      <td id=\"T_92195_row6_col6\" class=\"data row6 col6\" >-0.0023</td>\n",
       "      <td id=\"T_92195_row6_col7\" class=\"data row6 col7\" >-0.0028</td>\n",
       "      <td id=\"T_92195_row6_col8\" class=\"data row6 col8\" >0.6730</td>\n",
       "    </tr>\n",
       "    <tr>\n",
       "      <th id=\"T_92195_level0_row7\" class=\"row_heading level0 row7\" >rf</th>\n",
       "      <td id=\"T_92195_row7_col0\" class=\"data row7 col0\" >Random Forest Classifier</td>\n",
       "      <td id=\"T_92195_row7_col1\" class=\"data row7 col1\" >0.5092</td>\n",
       "      <td id=\"T_92195_row7_col2\" class=\"data row7 col2\" >0.4987</td>\n",
       "      <td id=\"T_92195_row7_col3\" class=\"data row7 col3\" >0.6391</td>\n",
       "      <td id=\"T_92195_row7_col4\" class=\"data row7 col4\" >0.5362</td>\n",
       "      <td id=\"T_92195_row7_col5\" class=\"data row7 col5\" >0.5819</td>\n",
       "      <td id=\"T_92195_row7_col6\" class=\"data row7 col6\" >-0.0025</td>\n",
       "      <td id=\"T_92195_row7_col7\" class=\"data row7 col7\" >-0.0025</td>\n",
       "      <td id=\"T_92195_row7_col8\" class=\"data row7 col8\" >0.3740</td>\n",
       "    </tr>\n",
       "    <tr>\n",
       "      <th id=\"T_92195_level0_row8\" class=\"row_heading level0 row8\" >lightgbm</th>\n",
       "      <td id=\"T_92195_row8_col0\" class=\"data row8 col0\" >Light Gradient Boosting Machine</td>\n",
       "      <td id=\"T_92195_row8_col1\" class=\"data row8 col1\" >0.5089</td>\n",
       "      <td id=\"T_92195_row8_col2\" class=\"data row8 col2\" >0.5009</td>\n",
       "      <td id=\"T_92195_row8_col3\" class=\"data row8 col3\" >0.6038</td>\n",
       "      <td id=\"T_92195_row8_col4\" class=\"data row8 col4\" >0.5381</td>\n",
       "      <td id=\"T_92195_row8_col5\" class=\"data row8 col5\" >0.5639</td>\n",
       "      <td id=\"T_92195_row8_col6\" class=\"data row8 col6\" >0.0027</td>\n",
       "      <td id=\"T_92195_row8_col7\" class=\"data row8 col7\" >0.0028</td>\n",
       "      <td id=\"T_92195_row8_col8\" class=\"data row8 col8\" >0.2400</td>\n",
       "    </tr>\n",
       "    <tr>\n",
       "      <th id=\"T_92195_level0_row9\" class=\"row_heading level0 row9\" >ada</th>\n",
       "      <td id=\"T_92195_row9_col0\" class=\"data row9 col0\" >Ada Boost Classifier</td>\n",
       "      <td id=\"T_92195_row9_col1\" class=\"data row9 col1\" >0.5080</td>\n",
       "      <td id=\"T_92195_row9_col2\" class=\"data row9 col2\" >0.4973</td>\n",
       "      <td id=\"T_92195_row9_col3\" class=\"data row9 col3\" >0.6337</td>\n",
       "      <td id=\"T_92195_row9_col4\" class=\"data row9 col4\" >0.5351</td>\n",
       "      <td id=\"T_92195_row9_col5\" class=\"data row9 col5\" >0.5705</td>\n",
       "      <td id=\"T_92195_row9_col6\" class=\"data row9 col6\" >-0.0042</td>\n",
       "      <td id=\"T_92195_row9_col7\" class=\"data row9 col7\" >-0.0042</td>\n",
       "      <td id=\"T_92195_row9_col8\" class=\"data row9 col8\" >0.3590</td>\n",
       "    </tr>\n",
       "    <tr>\n",
       "      <th id=\"T_92195_level0_row10\" class=\"row_heading level0 row10\" >xgboost</th>\n",
       "      <td id=\"T_92195_row10_col0\" class=\"data row10 col0\" >Extreme Gradient Boosting</td>\n",
       "      <td id=\"T_92195_row10_col1\" class=\"data row10 col1\" >0.5032</td>\n",
       "      <td id=\"T_92195_row10_col2\" class=\"data row10 col2\" >0.4990</td>\n",
       "      <td id=\"T_92195_row10_col3\" class=\"data row10 col3\" >0.5528</td>\n",
       "      <td id=\"T_92195_row10_col4\" class=\"data row10 col4\" >0.5363</td>\n",
       "      <td id=\"T_92195_row10_col5\" class=\"data row10 col5\" >0.5412</td>\n",
       "      <td id=\"T_92195_row10_col6\" class=\"data row10 col6\" >-0.0016</td>\n",
       "      <td id=\"T_92195_row10_col7\" class=\"data row10 col7\" >-0.0017</td>\n",
       "      <td id=\"T_92195_row10_col8\" class=\"data row10 col8\" >0.2420</td>\n",
       "    </tr>\n",
       "    <tr>\n",
       "      <th id=\"T_92195_level0_row11\" class=\"row_heading level0 row11\" >et</th>\n",
       "      <td id=\"T_92195_row11_col0\" class=\"data row11 col0\" >Extra Trees Classifier</td>\n",
       "      <td id=\"T_92195_row11_col1\" class=\"data row11 col1\" >0.5029</td>\n",
       "      <td id=\"T_92195_row11_col2\" class=\"data row11 col2\" >0.5002</td>\n",
       "      <td id=\"T_92195_row11_col3\" class=\"data row11 col3\" >0.5566</td>\n",
       "      <td id=\"T_92195_row11_col4\" class=\"data row11 col4\" >0.5359</td>\n",
       "      <td id=\"T_92195_row11_col5\" class=\"data row11 col5\" >0.5454</td>\n",
       "      <td id=\"T_92195_row11_col6\" class=\"data row11 col6\" >-0.0028</td>\n",
       "      <td id=\"T_92195_row11_col7\" class=\"data row11 col7\" >-0.0028</td>\n",
       "      <td id=\"T_92195_row11_col8\" class=\"data row11 col8\" >0.3540</td>\n",
       "    </tr>\n",
       "    <tr>\n",
       "      <th id=\"T_92195_level0_row12\" class=\"row_heading level0 row12\" >svm</th>\n",
       "      <td id=\"T_92195_row12_col0\" class=\"data row12 col0\" >SVM - Linear Kernel</td>\n",
       "      <td id=\"T_92195_row12_col1\" class=\"data row12 col1\" >0.5000</td>\n",
       "      <td id=\"T_92195_row12_col2\" class=\"data row12 col2\" >0.0000</td>\n",
       "      <td id=\"T_92195_row12_col3\" class=\"data row12 col3\" >0.5006</td>\n",
       "      <td id=\"T_92195_row12_col4\" class=\"data row12 col4\" >0.4729</td>\n",
       "      <td id=\"T_92195_row12_col5\" class=\"data row12 col5\" >0.3507</td>\n",
       "      <td id=\"T_92195_row12_col6\" class=\"data row12 col6\" >-0.0002</td>\n",
       "      <td id=\"T_92195_row12_col7\" class=\"data row12 col7\" >-0.0015</td>\n",
       "      <td id=\"T_92195_row12_col8\" class=\"data row12 col8\" >0.1840</td>\n",
       "    </tr>\n",
       "    <tr>\n",
       "      <th id=\"T_92195_level0_row13\" class=\"row_heading level0 row13\" >dt</th>\n",
       "      <td id=\"T_92195_row13_col0\" class=\"data row13 col0\" >Decision Tree Classifier</td>\n",
       "      <td id=\"T_92195_row13_col1\" class=\"data row13 col1\" >0.4949</td>\n",
       "      <td id=\"T_92195_row13_col2\" class=\"data row13 col2\" >0.4981</td>\n",
       "      <td id=\"T_92195_row13_col3\" class=\"data row13 col3\" >0.4519</td>\n",
       "      <td id=\"T_92195_row13_col4\" class=\"data row13 col4\" >0.5355</td>\n",
       "      <td id=\"T_92195_row13_col5\" class=\"data row13 col5\" >0.4889</td>\n",
       "      <td id=\"T_92195_row13_col6\" class=\"data row13 col6\" >-0.0032</td>\n",
       "      <td id=\"T_92195_row13_col7\" class=\"data row13 col7\" >-0.0033</td>\n",
       "      <td id=\"T_92195_row13_col8\" class=\"data row13 col8\" >0.1780</td>\n",
       "    </tr>\n",
       "    <tr>\n",
       "      <th id=\"T_92195_level0_row14\" class=\"row_heading level0 row14\" >lr</th>\n",
       "      <td id=\"T_92195_row14_col0\" class=\"data row14 col0\" >Logistic Regression</td>\n",
       "      <td id=\"T_92195_row14_col1\" class=\"data row14 col1\" >0.4925</td>\n",
       "      <td id=\"T_92195_row14_col2\" class=\"data row14 col2\" >0.5003</td>\n",
       "      <td id=\"T_92195_row14_col3\" class=\"data row14 col3\" >0.4006</td>\n",
       "      <td id=\"T_92195_row14_col4\" class=\"data row14 col4\" >0.3636</td>\n",
       "      <td id=\"T_92195_row14_col5\" class=\"data row14 col5\" >0.2808</td>\n",
       "      <td id=\"T_92195_row14_col6\" class=\"data row14 col6\" >-0.0002</td>\n",
       "      <td id=\"T_92195_row14_col7\" class=\"data row14 col7\" >-0.0024</td>\n",
       "      <td id=\"T_92195_row14_col8\" class=\"data row14 col8\" >0.5050</td>\n",
       "    </tr>\n",
       "  </tbody>\n",
       "</table>\n"
      ],
      "text/plain": [
       "<pandas.io.formats.style.Styler at 0x1b630804220>"
      ]
     },
     "metadata": {},
     "output_type": "display_data"
    },
    {
     "data": {
      "text/html": [],
      "text/plain": [
       "<IPython.core.display.HTML object>"
      ]
     },
     "metadata": {},
     "output_type": "display_data"
    }
   ],
   "source": [
    "best_model = compare_models()"
   ]
  },
  {
   "cell_type": "code",
   "execution_count": 39,
   "id": "945aef72-ae77-4b97-8e2b-5721ab8ba66e",
   "metadata": {},
   "outputs": [
    {
     "data": {
      "text/html": [],
      "text/plain": [
       "<IPython.core.display.HTML object>"
      ]
     },
     "metadata": {},
     "output_type": "display_data"
    },
    {
     "data": {
      "text/html": [
       "<style type=\"text/css\">\n",
       "#T_6e578_row10_col0, #T_6e578_row10_col1, #T_6e578_row10_col2, #T_6e578_row10_col3, #T_6e578_row10_col4, #T_6e578_row10_col5, #T_6e578_row10_col6 {\n",
       "  background: yellow;\n",
       "}\n",
       "</style>\n",
       "<table id=\"T_6e578\">\n",
       "  <thead>\n",
       "    <tr>\n",
       "      <th class=\"blank level0\" >&nbsp;</th>\n",
       "      <th id=\"T_6e578_level0_col0\" class=\"col_heading level0 col0\" >Accuracy</th>\n",
       "      <th id=\"T_6e578_level0_col1\" class=\"col_heading level0 col1\" >AUC</th>\n",
       "      <th id=\"T_6e578_level0_col2\" class=\"col_heading level0 col2\" >Recall</th>\n",
       "      <th id=\"T_6e578_level0_col3\" class=\"col_heading level0 col3\" >Prec.</th>\n",
       "      <th id=\"T_6e578_level0_col4\" class=\"col_heading level0 col4\" >F1</th>\n",
       "      <th id=\"T_6e578_level0_col5\" class=\"col_heading level0 col5\" >Kappa</th>\n",
       "      <th id=\"T_6e578_level0_col6\" class=\"col_heading level0 col6\" >MCC</th>\n",
       "    </tr>\n",
       "    <tr>\n",
       "      <th class=\"index_name level0\" >Fold</th>\n",
       "      <th class=\"blank col0\" >&nbsp;</th>\n",
       "      <th class=\"blank col1\" >&nbsp;</th>\n",
       "      <th class=\"blank col2\" >&nbsp;</th>\n",
       "      <th class=\"blank col3\" >&nbsp;</th>\n",
       "      <th class=\"blank col4\" >&nbsp;</th>\n",
       "      <th class=\"blank col5\" >&nbsp;</th>\n",
       "      <th class=\"blank col6\" >&nbsp;</th>\n",
       "    </tr>\n",
       "  </thead>\n",
       "  <tbody>\n",
       "    <tr>\n",
       "      <th id=\"T_6e578_level0_row0\" class=\"row_heading level0 row0\" >0</th>\n",
       "      <td id=\"T_6e578_row0_col0\" class=\"data row0 col0\" >0.5146</td>\n",
       "      <td id=\"T_6e578_row0_col1\" class=\"data row0 col1\" >0.5068</td>\n",
       "      <td id=\"T_6e578_row0_col2\" class=\"data row0 col2\" >0.6850</td>\n",
       "      <td id=\"T_6e578_row0_col3\" class=\"data row0 col3\" >0.5378</td>\n",
       "      <td id=\"T_6e578_row0_col4\" class=\"data row0 col4\" >0.6025</td>\n",
       "      <td id=\"T_6e578_row0_col5\" class=\"data row0 col5\" >0.0019</td>\n",
       "      <td id=\"T_6e578_row0_col6\" class=\"data row0 col6\" >0.0020</td>\n",
       "    </tr>\n",
       "    <tr>\n",
       "      <th id=\"T_6e578_level0_row1\" class=\"row_heading level0 row1\" >1</th>\n",
       "      <td id=\"T_6e578_row1_col0\" class=\"data row1 col0\" >0.5140</td>\n",
       "      <td id=\"T_6e578_row1_col1\" class=\"data row1 col1\" >0.5027</td>\n",
       "      <td id=\"T_6e578_row1_col2\" class=\"data row1 col2\" >0.6696</td>\n",
       "      <td id=\"T_6e578_row1_col3\" class=\"data row1 col3\" >0.5382</td>\n",
       "      <td id=\"T_6e578_row1_col4\" class=\"data row1 col4\" >0.5968</td>\n",
       "      <td id=\"T_6e578_row1_col5\" class=\"data row1 col5\" >0.0030</td>\n",
       "      <td id=\"T_6e578_row1_col6\" class=\"data row1 col6\" >0.0031</td>\n",
       "    </tr>\n",
       "    <tr>\n",
       "      <th id=\"T_6e578_level0_row2\" class=\"row_heading level0 row2\" >2</th>\n",
       "      <td id=\"T_6e578_row2_col0\" class=\"data row2 col0\" >0.5097</td>\n",
       "      <td id=\"T_6e578_row2_col1\" class=\"data row2 col1\" >0.5024</td>\n",
       "      <td id=\"T_6e578_row2_col2\" class=\"data row2 col2\" >0.6448</td>\n",
       "      <td id=\"T_6e578_row2_col3\" class=\"data row2 col3\" >0.5362</td>\n",
       "      <td id=\"T_6e578_row2_col4\" class=\"data row2 col4\" >0.5855</td>\n",
       "      <td id=\"T_6e578_row2_col5\" class=\"data row2 col5\" >-0.0024</td>\n",
       "      <td id=\"T_6e578_row2_col6\" class=\"data row2 col6\" >-0.0024</td>\n",
       "    </tr>\n",
       "    <tr>\n",
       "      <th id=\"T_6e578_level0_row3\" class=\"row_heading level0 row3\" >3</th>\n",
       "      <td id=\"T_6e578_row3_col0\" class=\"data row3 col0\" >0.4984</td>\n",
       "      <td id=\"T_6e578_row3_col1\" class=\"data row3 col1\" >0.4916</td>\n",
       "      <td id=\"T_6e578_row3_col2\" class=\"data row3 col2\" >0.5173</td>\n",
       "      <td id=\"T_6e578_row3_col3\" class=\"data row3 col3\" >0.5343</td>\n",
       "      <td id=\"T_6e578_row3_col4\" class=\"data row3 col4\" >0.5257</td>\n",
       "      <td id=\"T_6e578_row3_col5\" class=\"data row3 col5\" >-0.0062</td>\n",
       "      <td id=\"T_6e578_row3_col6\" class=\"data row3 col6\" >-0.0062</td>\n",
       "    </tr>\n",
       "    <tr>\n",
       "      <th id=\"T_6e578_level0_row4\" class=\"row_heading level0 row4\" >4</th>\n",
       "      <td id=\"T_6e578_row4_col0\" class=\"data row4 col0\" >0.5075</td>\n",
       "      <td id=\"T_6e578_row4_col1\" class=\"data row4 col1\" >0.4973</td>\n",
       "      <td id=\"T_6e578_row4_col2\" class=\"data row4 col2\" >0.6428</td>\n",
       "      <td id=\"T_6e578_row4_col3\" class=\"data row4 col3\" >0.5346</td>\n",
       "      <td id=\"T_6e578_row4_col4\" class=\"data row4 col4\" >0.5838</td>\n",
       "      <td id=\"T_6e578_row4_col5\" class=\"data row4 col5\" >-0.0070</td>\n",
       "      <td id=\"T_6e578_row4_col6\" class=\"data row4 col6\" >-0.0072</td>\n",
       "    </tr>\n",
       "    <tr>\n",
       "      <th id=\"T_6e578_level0_row5\" class=\"row_heading level0 row5\" >5</th>\n",
       "      <td id=\"T_6e578_row5_col0\" class=\"data row5 col0\" >0.5029</td>\n",
       "      <td id=\"T_6e578_row5_col1\" class=\"data row5 col1\" >0.4957</td>\n",
       "      <td id=\"T_6e578_row5_col2\" class=\"data row5 col2\" >0.6242</td>\n",
       "      <td id=\"T_6e578_row5_col3\" class=\"data row5 col3\" >0.5318</td>\n",
       "      <td id=\"T_6e578_row5_col4\" class=\"data row5 col4\" >0.5743</td>\n",
       "      <td id=\"T_6e578_row5_col5\" class=\"data row5 col5\" >-0.0141</td>\n",
       "      <td id=\"T_6e578_row5_col6\" class=\"data row5 col6\" >-0.0143</td>\n",
       "    </tr>\n",
       "    <tr>\n",
       "      <th id=\"T_6e578_level0_row6\" class=\"row_heading level0 row6\" >6</th>\n",
       "      <td id=\"T_6e578_row6_col0\" class=\"data row6 col0\" >0.5049</td>\n",
       "      <td id=\"T_6e578_row6_col1\" class=\"data row6 col1\" >0.4948</td>\n",
       "      <td id=\"T_6e578_row6_col2\" class=\"data row6 col2\" >0.5737</td>\n",
       "      <td id=\"T_6e578_row6_col3\" class=\"data row6 col3\" >0.5368</td>\n",
       "      <td id=\"T_6e578_row6_col4\" class=\"data row6 col4\" >0.5546</td>\n",
       "      <td id=\"T_6e578_row6_col5\" class=\"data row6 col5\" >-0.0013</td>\n",
       "      <td id=\"T_6e578_row6_col6\" class=\"data row6 col6\" >-0.0013</td>\n",
       "    </tr>\n",
       "    <tr>\n",
       "      <th id=\"T_6e578_level0_row7\" class=\"row_heading level0 row7\" >7</th>\n",
       "      <td id=\"T_6e578_row7_col0\" class=\"data row7 col0\" >0.5097</td>\n",
       "      <td id=\"T_6e578_row7_col1\" class=\"data row7 col1\" >0.4957</td>\n",
       "      <td id=\"T_6e578_row7_col2\" class=\"data row7 col2\" >0.6363</td>\n",
       "      <td id=\"T_6e578_row7_col3\" class=\"data row7 col3\" >0.5369</td>\n",
       "      <td id=\"T_6e578_row7_col4\" class=\"data row7 col4\" >0.5824</td>\n",
       "      <td id=\"T_6e578_row7_col5\" class=\"data row7 col5\" >-0.0011</td>\n",
       "      <td id=\"T_6e578_row7_col6\" class=\"data row7 col6\" >-0.0011</td>\n",
       "    </tr>\n",
       "    <tr>\n",
       "      <th id=\"T_6e578_level0_row8\" class=\"row_heading level0 row8\" >8</th>\n",
       "      <td id=\"T_6e578_row8_col0\" class=\"data row8 col0\" >0.5192</td>\n",
       "      <td id=\"T_6e578_row8_col1\" class=\"data row8 col1\" >0.5012</td>\n",
       "      <td id=\"T_6e578_row8_col2\" class=\"data row8 col2\" >0.7477</td>\n",
       "      <td id=\"T_6e578_row8_col3\" class=\"data row8 col3\" >0.5378</td>\n",
       "      <td id=\"T_6e578_row8_col4\" class=\"data row8 col4\" >0.6256</td>\n",
       "      <td id=\"T_6e578_row8_col5\" class=\"data row8 col5\" >0.0016</td>\n",
       "      <td id=\"T_6e578_row8_col6\" class=\"data row8 col6\" >0.0018</td>\n",
       "    </tr>\n",
       "    <tr>\n",
       "      <th id=\"T_6e578_level0_row9\" class=\"row_heading level0 row9\" >9</th>\n",
       "      <td id=\"T_6e578_row9_col0\" class=\"data row9 col0\" >0.5112</td>\n",
       "      <td id=\"T_6e578_row9_col1\" class=\"data row9 col1\" >0.4984</td>\n",
       "      <td id=\"T_6e578_row9_col2\" class=\"data row9 col2\" >0.6498</td>\n",
       "      <td id=\"T_6e578_row9_col3\" class=\"data row9 col3\" >0.5373</td>\n",
       "      <td id=\"T_6e578_row9_col4\" class=\"data row9 col4\" >0.5882</td>\n",
       "      <td id=\"T_6e578_row9_col5\" class=\"data row9 col5\" >0.0001</td>\n",
       "      <td id=\"T_6e578_row9_col6\" class=\"data row9 col6\" >0.0001</td>\n",
       "    </tr>\n",
       "    <tr>\n",
       "      <th id=\"T_6e578_level0_row10\" class=\"row_heading level0 row10\" >Mean</th>\n",
       "      <td id=\"T_6e578_row10_col0\" class=\"data row10 col0\" >0.5092</td>\n",
       "      <td id=\"T_6e578_row10_col1\" class=\"data row10 col1\" >0.4987</td>\n",
       "      <td id=\"T_6e578_row10_col2\" class=\"data row10 col2\" >0.6391</td>\n",
       "      <td id=\"T_6e578_row10_col3\" class=\"data row10 col3\" >0.5362</td>\n",
       "      <td id=\"T_6e578_row10_col4\" class=\"data row10 col4\" >0.5820</td>\n",
       "      <td id=\"T_6e578_row10_col5\" class=\"data row10 col5\" >-0.0025</td>\n",
       "      <td id=\"T_6e578_row10_col6\" class=\"data row10 col6\" >-0.0025</td>\n",
       "    </tr>\n",
       "    <tr>\n",
       "      <th id=\"T_6e578_level0_row11\" class=\"row_heading level0 row11\" >Std</th>\n",
       "      <td id=\"T_6e578_row11_col0\" class=\"data row11 col0\" >0.0058</td>\n",
       "      <td id=\"T_6e578_row11_col1\" class=\"data row11 col1\" >0.0043</td>\n",
       "      <td id=\"T_6e578_row11_col2\" class=\"data row11 col2\" >0.0586</td>\n",
       "      <td id=\"T_6e578_row11_col3\" class=\"data row11 col3\" >0.0019</td>\n",
       "      <td id=\"T_6e578_row11_col4\" class=\"data row11 col4\" >0.0257</td>\n",
       "      <td id=\"T_6e578_row11_col5\" class=\"data row11 col5\" >0.0049</td>\n",
       "      <td id=\"T_6e578_row11_col6\" class=\"data row11 col6\" >0.0051</td>\n",
       "    </tr>\n",
       "  </tbody>\n",
       "</table>\n"
      ],
      "text/plain": [
       "<pandas.io.formats.style.Styler at 0x1b58e0bff10>"
      ]
     },
     "metadata": {},
     "output_type": "display_data"
    },
    {
     "data": {
      "text/html": [],
      "text/plain": [
       "<IPython.core.display.HTML object>"
      ]
     },
     "metadata": {},
     "output_type": "display_data"
    }
   ],
   "source": [
    "rf = create_model('rf')"
   ]
  },
  {
   "cell_type": "code",
   "execution_count": null,
   "id": "eb60a266-d70f-4dee-bf90-abee9a7aa58b",
   "metadata": {
    "tags": []
   },
   "outputs": [],
   "source": [
    "interpret_model(rf, plot='summary')"
   ]
  },
  {
   "cell_type": "code",
   "execution_count": null,
   "id": "6db85098-9768-4765-b72c-890efb074bd0",
   "metadata": {
    "tags": []
   },
   "outputs": [],
   "source": [
    "import mlflow\n",
    "mlflow.set_tracking_uri('http://127.0.0.1:5000')"
   ]
  },
  {
   "cell_type": "code",
   "execution_count": null,
   "id": "16017488-1a9e-4df8-aead-9c43bb0878a4",
   "metadata": {},
   "outputs": [],
   "source": [
    "import numpy as np\n",
    "import pandas as pd\n",
    "from ydata_profiling import ProfileReport\n",
    "profile = ProfileReport(data, title=\"Profiling Report\")"
   ]
  },
  {
   "cell_type": "code",
   "execution_count": null,
   "id": "138b1a7a-5002-4ef1-b3b5-533a5bdc98f5",
   "metadata": {},
   "outputs": [],
   "source": [
    "profile.to_file(\"problem_report.html\")"
   ]
  }
 ],
 "metadata": {
  "kernelspec": {
   "display_name": "Python 3 (ipykernel)",
   "language": "python",
   "name": "python3"
  },
  "language_info": {
   "codemirror_mode": {
    "name": "ipython",
    "version": 3
   },
   "file_extension": ".py",
   "mimetype": "text/x-python",
   "name": "python",
   "nbconvert_exporter": "python",
   "pygments_lexer": "ipython3",
   "version": "3.10.0"
  }
 },
 "nbformat": 4,
 "nbformat_minor": 5
}
